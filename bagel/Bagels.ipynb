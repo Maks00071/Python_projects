{
 "cells": [
  {
   "attachments": {},
   "cell_type": "markdown",
   "metadata": {},
   "source": [
    "Begels, a deductive logic game."
   ]
  },
  {
   "cell_type": "code",
   "execution_count": 1,
   "metadata": {},
   "outputs": [],
   "source": [
    "import random\n",
    "\n",
    "NUM_DIGITS = 3 #\n",
    "MAX_GUESSES = 10 #"
   ]
  },
  {
   "cell_type": "code",
   "execution_count": 2,
   "metadata": {},
   "outputs": [
    {
     "name": "stdout",
     "output_type": "stream",
     "text": [
      "Bagels, a deductive logic game. \n",
      "          By Al Sweigart al@inventwithpython.com\n",
      "          \n",
      "          I am thinking of a 3-digit number with no repeated digits.\n",
      "          Try to guess what it is. Here ara some clues:\n",
      "          When I say:    That means:\n",
      "          Pico           One digit is correct but in the wrong position.\n",
      "          Fermi          One digit is correct and in the right position.\n",
      "          Bagels         No digit is correct.\n",
      "          \n",
      "        For example, if the secret number was 248 and your guess was 843, the clues would be Fermi Pico.\n",
      "I have thought up a number.\n",
      "You have 10 guesses to get it.\n",
      "Guess №1: \n",
      "Guess №1: \n",
      "Guess №1: \n",
      "Guess №1: \n",
      "Pico Pico\n",
      "Guess №2: \n",
      "Pico\n",
      "Guess №3: \n",
      "Pico\n",
      "Guess №4: \n",
      "Pico\n",
      "Guess №5: \n",
      "Pico Pico\n",
      "Guess №6: \n",
      "Pico Pico\n",
      "Guess №7: \n",
      "Fermi Pico Pico\n",
      "Guess №8: \n",
      "Pico Pico Pico\n",
      "Guess №9: \n",
      "Fermi Fermi Pico\n",
      "Guess №10: \n",
      "Pico Pico Pico\n",
      "You ran out of guesses.\n"
     ]
    },
    {
     "ename": "AttributeError",
     "evalue": "'str' object has no attribute 'fotmat'",
     "output_type": "error",
     "traceback": [
      "\u001b[1;31m---------------------------------------------------------------------------\u001b[0m",
      "\u001b[1;31mAttributeError\u001b[0m                            Traceback (most recent call last)",
      "Cell \u001b[1;32mIn [2], line 77\u001b[0m\n\u001b[0;32m     73\u001b[0m         \u001b[39mreturn\u001b[39;00m \u001b[39m'\u001b[39m\u001b[39m \u001b[39m\u001b[39m'\u001b[39m\u001b[39m.\u001b[39mjoin(clues) \u001b[39m# склеиваем список подсказок в одно строковое значение\u001b[39;00m\n\u001b[0;32m     76\u001b[0m \u001b[39mif\u001b[39;00m \u001b[39m__name__\u001b[39m \u001b[39m==\u001b[39m \u001b[39m'\u001b[39m\u001b[39m__main__\u001b[39m\u001b[39m'\u001b[39m: \u001b[39m#если программа не импортируется, а запускается, производим запуск \u001b[39;00m\n\u001b[1;32m---> 77\u001b[0m     main()\n",
      "Cell \u001b[1;32mIn [2], line 35\u001b[0m, in \u001b[0;36mmain\u001b[1;34m()\u001b[0m\n\u001b[0;32m     33\u001b[0m     \u001b[39mif\u001b[39;00m numGuesses \u001b[39m>\u001b[39m MAX_GUESSES: \u001b[39m#кол-во попыток превышает максимально допустимое\u001b[39;00m\n\u001b[0;32m     34\u001b[0m         \u001b[39mprint\u001b[39m(\u001b[39m'\u001b[39m\u001b[39mYou ran out of guesses.\u001b[39m\u001b[39m'\u001b[39m) \u001b[39m# \"У тебя закончились попытки\"\u001b[39;00m\n\u001b[1;32m---> 35\u001b[0m         \u001b[39mprint\u001b[39m(\u001b[39m'\u001b[39;49m\u001b[39mThe answer was \u001b[39;49m\u001b[39m{}\u001b[39;49;00m\u001b[39m.\u001b[39;49m\u001b[39m'\u001b[39;49m\u001b[39m.\u001b[39;49mfotmat(secretNum)) \u001b[39m# Правильное число ...\u001b[39;00m\n\u001b[0;32m     37\u001b[0m \u001b[39mprint\u001b[39m(\u001b[39m'\u001b[39m\u001b[39mDo you want to play again? (yes or no)\u001b[39m\u001b[39m'\u001b[39m) \u001b[39m# Спрашиваем игрока, хочет ли он сыграть снова\u001b[39;00m\n\u001b[0;32m     38\u001b[0m \u001b[39mif\u001b[39;00m \u001b[39mnot\u001b[39;00m \u001b[39minput\u001b[39m(\u001b[39m'\u001b[39m\u001b[39m> \u001b[39m\u001b[39m'\u001b[39m)\u001b[39m.\u001b[39mlower()\u001b[39m.\u001b[39mstartswith(\u001b[39m'\u001b[39m\u001b[39my\u001b[39m\u001b[39m'\u001b[39m):\n",
      "\u001b[1;31mAttributeError\u001b[0m: 'str' object has no attribute 'fotmat'"
     ]
    }
   ],
   "source": [
    "def main():\n",
    "    print('''Bagels, a deductive logic game. \n",
    "          By Al Sweigart al@inventwithpython.com\n",
    "          \n",
    "          I am thinking of a {}-digit number with no repeated digits.\n",
    "          Try to guess what it is. Here ara some clues:\n",
    "          When I say:    That means:\n",
    "          Pico           One digit is correct but in the wrong position.\n",
    "          Fermi          One digit is correct and in the right position.\n",
    "          Bagels         No digit is correct.\n",
    "          \n",
    "        For example, if the secret number was 248 and your guess was 843, the clues would be Fermi Pico.'''.format(NUM_DIGITS))\n",
    "    \n",
    "    while True: #\n",
    "        secretNum = getSecretNum() # Переменная, в которой хранится секретное число, которое должен угадать игрок\n",
    "        print('I have thought up a number.') # \"Я загадал число.\"\n",
    "        print('You have {} guesses to get it.'.format(MAX_GUESSES)) # \"У тебя есть ... кол-во попыток.\"\n",
    "        \n",
    "        numGuesses = 1\n",
    "        while numGuesses <= MAX_GUESSES: # пока не закончатся попытки\n",
    "            guess = ''\n",
    "            # продолжаем итерации до получения правильной догадки\n",
    "            while len(guess) != NUM_DIGITS or not guess.isdecimal(): #isdecimal() - все ли символы строки десятичные (только цифры)\n",
    "                print('Guess №{}: '.format(numGuesses))\n",
    "                guess = input('> ')\n",
    "            \n",
    "            clues =getClues(guess, secretNum)\n",
    "            print(clues)\n",
    "            numGuesses += 1 # увеличиваем число попыток\n",
    "            \n",
    "            if guess == secretNum:\n",
    "                break # мы угадали число\n",
    "            if numGuesses > MAX_GUESSES: #кол-во попыток превышает максимально допустимое\n",
    "                print('You ran out of guesses.') # \"У тебя закончились попытки\"\n",
    "                print('The answer was {}.'.fotmat(secretNum)) # Правильное число ...\n",
    "                \n",
    "        print('Do you want to play again? (yes or no)') # Спрашиваем игрока, хочет ли он сыграть снова\n",
    "        if not input('> ').lower().startswith('y'):  # если пользователь вводит не 'y'\n",
    "            break\n",
    "    print('Thanks for playing!')\n",
    "        \n",
    "        \n",
    "def getSecretNum():\n",
    "    '''Возвращает строку из NUM_DIGITS уникальных случайных цифр.'''\n",
    "    numbers = list('0123456789') # создаем список цифр от 0 до 9\n",
    "    random.shuffle(numbers) # shuffle перемешивает цифры в случайном порядке\n",
    "    \n",
    "    # Берем первые NUM_DIGITS цифр списка для нашего секретного числа\n",
    "    secretNum = ''\n",
    "    for i in range(NUM_DIGITS):  # берем первые три цифры из перемешанного списка\n",
    "        secretNum += str(numbers[i])\n",
    "    return secretNum\n",
    "    \n",
    "\n",
    "\n",
    "def getClues(guess, secretNum):\n",
    "    '''Возвращает строку с подсказками pico, fermi и bagels для полученной\n",
    "    на входе пары из догадки и секретного числа.'''\n",
    "    if guess == secretNum:\n",
    "        return 'You got it!' # \"У тебя получилось!\"\n",
    "    \n",
    "    clues = []\n",
    "    \n",
    "    for i in range(len(guess)):\n",
    "        if guess[i] == secretNum[i]: # правильная цифра на правильном месте\n",
    "            clues.append('Fermi')\n",
    "        elif guess[i] in secretNum: # правильная цифра на неправильном месте\n",
    "            clues.append('Pico')\n",
    "    if len(clues) == 0:\n",
    "        return 'Bagels' # правильных цифр нет вообще\n",
    "    else:\n",
    "        clues.sort() # сортируем подсказки в алфавитном порядке, чтобы их исходный порядок ничего не выдавал\n",
    "        return ' '.join(clues) # склеиваем список подсказок в одно строковое значение\n",
    "    \n",
    "    \n",
    "if __name__ == '__main__': #если программа не импортируется, а запускается, производим запуск \n",
    "    main()\n",
    "\n",
    "\n",
    "  "
   ]
  }
 ],
 "metadata": {
  "kernelspec": {
   "display_name": "Python 3",
   "language": "python",
   "name": "python3"
  },
  "language_info": {
   "codemirror_mode": {
    "name": "ipython",
    "version": 3
   },
   "file_extension": ".py",
   "mimetype": "text/x-python",
   "name": "python",
   "nbconvert_exporter": "python",
   "pygments_lexer": "ipython3",
   "version": "3.10.9"
  },
  "orig_nbformat": 4,
  "vscode": {
   "interpreter": {
    "hash": "d3e0837d68ea7522ef80c2f121d23e70d0b251b1f54da80186c133f7444d2472"
   }
  }
 },
 "nbformat": 4,
 "nbformat_minor": 2
}
