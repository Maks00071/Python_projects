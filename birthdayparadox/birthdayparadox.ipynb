{
 "cells": [
  {
   "attachments": {},
   "cell_type": "markdown",
   "metadata": {},
   "source": [
    "   Парадокс дней рождения, также известный как задача о днях рождениях, заключается \n",
    "в удивительно высокой вероятности того, что у двух человек совпадает день рождения даже \n",
    "в относительно небольшой группе людей."
   ]
  },
  {
   "attachments": {},
   "cell_type": "markdown",
   "metadata": {},
   "source": [
    "Приведенная программа производит несколько вероятностных экспериментов, чтобы определить процентные \n",
    "соотношения для групп различного размера. Подобные эксперименты с определением возможных исходов \n",
    "с помощью множества случайных испытаний называются экспериментами Монте - Карло."
   ]
  },
  {
   "cell_type": "code",
   "execution_count": 1,
   "metadata": {},
   "outputs": [],
   "source": [
    "'''Имитационное моделирование парадокса дней рождения'''\n",
    "\n",
    "import datetime, random"
   ]
  },
  {
   "cell_type": "code",
   "execution_count": null,
   "metadata": {},
   "outputs": [],
   "source": [
    "def getBirthdays(numberOfBirthdays):\n",
    "    '''Возвращает список объектов дат для случайных дней рождения.'''\n",
    "    birthdays = []\n",
    "    for i in range(numberOfBirthdays):\n",
    "        #  Год в нашем имитационном моделировании роли не играет, лишь\n",
    "        #  бы в объектах дней рождения он был одинаков.\n",
    "        startOfYear = datetime.date(2001, 1 1)\n",
    "        #  Получаем случайный день года:\n",
    "        randomNumberOfDays = datetime.timedelta(random.randint(0, 364))\n",
    "        birthday = startOfYear + randomNumberOfDays\n",
    "        birthdays.append(birthday)\n",
    "    return birthdays\n",
    "\n",
    "\n",
    "def getMatch(birthdays):\n",
    "    '''Возвращает объект даты дня рождения, встречающегося\n",
    "    несколько раз в списке дней рождения.'''\n",
    "    if len(birthdays) == len(set(birthdays)):\n",
    "        return None  # Все дни рождения различны, возвращаем None\n",
    "    \n",
    "    # Сравниваем все дни рождения друг с другом попарно:\n",
    "    for a, birthdayA in enumerate(birthdays):\n",
    "        for b, birthdayB in enumerate(birthdays[a + 1:]):\n",
    "            if birthdayA == birthdayB:\n",
    "                return birthdayA  # Возвращаем найденные соответствия\n",
    "            \n",
    "\n",
    "# Отображаем вводную информацию:\n",
    "print('''The Birthday Paradox shows us that in a group of N people, the odds\n",
    "      that two have matching birthdays is surprisingly large. \n",
    "      This program does a Monte Carlo simulation (that is, repeated random \n",
    "      simulations) to explore this concept. \n",
    "      \n",
    "      (It's not actually a paradox, it's just a surprising result.)\n",
    "      ''')\n",
    "\n",
    "# Создаем кортеж названий месяцев по порядку:\n",
    "MONTHS = ['Jan', 'Feb', 'Mar', 'Apr', 'May', 'Jun', \n",
    "          'Jul', 'Aug', 'Sep', 'Oct', 'Nov', 'Dec']\n",
    "\n",
    "while True:  # Запрашиваем, пока пользователь не введет допустимое значение\n",
    "    print(\"How many birthdays shall I generate? (Max 100)\")\n",
    "    response = input('> ')\n",
    "    if response.isdecimal() and (0 < int(response) <= 100):\n",
    "        numBDays = int(response)\n",
    "        break  # Пользователь ввел допустимое значение\n",
    "print()\n",
    "\n",
    "# Генерируем и отображаем дни рождения:\n",
    "print(\"Here are\", numBDays, \"birthdays:\")\n",
    "birthdays = getBirthdays(numBDays)\n",
    "for i, birthday in enumerate(birthdays):\n",
    "    if i != 0:\n",
    "        # выводим запятую для каждого дня рождения после первого.\n",
    "        print(', ', end='')\n",
    "    monthName = MONTHS[birthday.month - 1]\n",
    "    dateText = '{} {}'.format(monthName, birthday.day)\n",
    "    print(dateText, end='')\n",
    "print()\n",
    "print()\n",
    "\n",
    "# Выясняем, встречаются ли два совпадающих дня рождения.\n",
    "match = getMatch(birthdays)\n",
    "\n",
    "# Отображаем результаты:\n",
    "print(\"In this simulation, \", end='')\n",
    "if match != None:\n",
    "    monthName = MONTHS[match.month - 1]\n",
    "    dateText = '{} {}'.format(monthName, match.day)\n",
    "    print('multiple people have a birthday on', dateText)\n",
    "else:\n",
    "    print('there are no matching birthdays.')\n",
    "print()\n",
    "\n",
    "# Производим 100 000 операций имитационного моделирования:"
   ]
  }
 ],
 "metadata": {
  "kernelspec": {
   "display_name": "Python 3",
   "language": "python",
   "name": "python3"
  },
  "language_info": {
   "codemirror_mode": {
    "name": "ipython",
    "version": 3
   },
   "file_extension": ".py",
   "mimetype": "text/x-python",
   "name": "python",
   "nbconvert_exporter": "python",
   "pygments_lexer": "ipython3",
   "version": "3.10.9 (tags/v3.10.9:1dd9be6, Dec  6 2022, 20:01:21) [MSC v.1934 64 bit (AMD64)]"
  },
  "orig_nbformat": 4,
  "vscode": {
   "interpreter": {
    "hash": "d3e0837d68ea7522ef80c2f121d23e70d0b251b1f54da80186c133f7444d2472"
   }
  }
 },
 "nbformat": 4,
 "nbformat_minor": 2
}
